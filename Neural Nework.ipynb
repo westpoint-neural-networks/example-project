{
 "cells": [
  {
   "cell_type": "markdown",
   "metadata": {},
   "source": [
    "# Dependencies"
   ]
  },
  {
   "cell_type": "markdown",
   "metadata": {},
   "source": [
    "There is a [known issue](https://github.com/biocore/songbird/issues/47) in the OpenMP library for OS X and Tensorflow. Unfortunatly, Jupyter gives no indication that something is wrong, but if you try to train from the comman-line you'll see the error. \n",
    "\n",
    "Running the following command seems to fix things:\n",
    "\n",
    "```\n",
    "$ conda install nomkl\n",
    "```\n",
    "\n",
    "If you get the [following error](https://github.com/numpy/numpy/issues/12744):\n",
    "\n",
    "```text\n",
    "cannot import name '_validate_lengths'\n",
    "```\n",
    "\n",
    "Then try updating scikit-image:\n",
    "\n",
    "```bash\n",
    "$ conda install -c conda-forge scikit-image\n",
    "```\n",
    "\n",
    "# Build model"
   ]
  },
  {
   "cell_type": "code",
   "execution_count": null,
   "metadata": {},
   "outputs": [],
   "source": [
    "import numpy as np\n",
    "\n",
    "import keras\n",
    "from keras.models import Sequential\n",
    "from keras.layers import Dense, Dropout\n",
    "\n",
    "model = Sequential([\n",
    "    Dense(512, input_dim=8, activation='relu'),\n",
    "    Dropout(0.5),\n",
    "    Dense(512, activation='relu'),\n",
    "    Dropout(0.5),\n",
    "    Dense(1, activation='sigmoid')\n",
    "])\n",
    "\n",
    "model.compile(loss='binary_crossentropy',\n",
    "              optimizer='sgd',\n",
    "              metrics=['accuracy'])\n",
    "\n",
    "model.summary()"
   ]
  },
  {
   "cell_type": "markdown",
   "metadata": {},
   "source": [
    "# Load data"
   ]
  },
  {
   "cell_type": "code",
   "execution_count": null,
   "metadata": {},
   "outputs": [],
   "source": [
    "import glob\n",
    "import pickle\n",
    "import numpy as np\n",
    "\n",
    "N_SAMPLES = 20000\n",
    "\n",
    "# X is the training input, Y is the labels\n",
    "X, Y = np.empty((0,8)), []\n",
    "\n",
    "for path in sorted(glob.glob(\"*/training.p\")):\n",
    "    print(\"Processing\", path, \"...\")\n",
    "    \n",
    "    # x is the training data for this sample, y is the labels\n",
    "    x, y = pickle.load(open(path, \"rb\"))\n",
    "    \n",
    "    # sample N_SAMPLES signal and N_SAMPLES background vectors\n",
    "    for i in [1,0]:\n",
    "        \n",
    "        # x_i is the training data with the label i\n",
    "        x_i = x[y == i]\n",
    "\n",
    "        if len(x_i) > 0: \n",
    "            indicies = np.random.choice(len(x_i), N_SAMPLES, replace=False)\n",
    "            samples = x_i[indicies, :]\n",
    "            \n",
    "            Y = np.append(Y, [i]*N_SAMPLES)\n",
    "            X = np.append(X, samples, axis=0)\n",
    "\n",
    "X = X.astype('float32') / 255\n",
    "print(\"\\nRead\", len(X), \"vectors and labels.\")"
   ]
  },
  {
   "cell_type": "markdown",
   "metadata": {},
   "source": [
    "# Prepare data"
   ]
  },
  {
   "cell_type": "code",
   "execution_count": null,
   "metadata": {},
   "outputs": [],
   "source": [
    "from sklearn.model_selection import train_test_split\n",
    "\n",
    "X_train, X_test, y_train, y_test = train_test_split(X, Y)\n",
    "\n",
    "print('x_train shape:', X_train.shape)\n",
    "print('x_test shape:', X_test.shape)"
   ]
  },
  {
   "cell_type": "markdown",
   "metadata": {},
   "source": [
    "# Train"
   ]
  },
  {
   "cell_type": "code",
   "execution_count": null,
   "metadata": {},
   "outputs": [],
   "source": [
    "from keras.callbacks import EarlyStopping\n",
    "from keras.callbacks import ModelCheckpoint\n",
    "\n",
    "stop = EarlyStopping(monitor='val_loss', mode='min', verbose=1, patience=200)\n",
    "checkpoint = ModelCheckpoint('models/checkpoint.h5', monitor='val_acc', mode='max', verbose=1, save_best_only=True)\n",
    "\n",
    "history = model.fit(\n",
    "    X_train, y_train,\n",
    "    verbose=2, shuffle=True,\n",
    "    batch_size=128, epochs=4000,\n",
    "    callbacks=[stop, checkpoint],\n",
    "    validation_data=(X_test, y_test)    \n",
    ")"
   ]
  },
  {
   "cell_type": "markdown",
   "metadata": {},
   "source": [
    "# Score"
   ]
  },
  {
   "cell_type": "code",
   "execution_count": null,
   "metadata": {},
   "outputs": [],
   "source": [
    "model = keras.models.load_model('models/checkpoint.h5')\n",
    "loss, accuracy = model.evaluate(X_test, y_test, batch_size=128)\n",
    "\n",
    "print('Test loss:', loss)\n",
    "print('Test accuracy:', accuracy)"
   ]
  }
 ],
 "metadata": {
  "kernelspec": {
   "display_name": "Python 3",
   "language": "python",
   "name": "python3"
  },
  "language_info": {
   "codemirror_mode": {
    "name": "ipython",
    "version": 3
   },
   "file_extension": ".py",
   "mimetype": "text/x-python",
   "name": "python",
   "nbconvert_exporter": "python",
   "pygments_lexer": "ipython3",
   "version": "3.6.8"
  }
 },
 "nbformat": 4,
 "nbformat_minor": 2
}
